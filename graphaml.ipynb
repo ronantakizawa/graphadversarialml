{
  "nbformat": 4,
  "nbformat_minor": 0,
  "metadata": {
    "colab": {
      "provenance": []
    },
    "kernelspec": {
      "name": "python3",
      "display_name": "Python 3"
    },
    "language_info": {
      "name": "python"
    }
  },
  "cells": [
    {
      "cell_type": "markdown",
      "source": [
        "# Graph-based Adversarial Machine Learning"
      ],
      "metadata": {
        "id": "yYcnaolYstQ7"
      }
    },
    {
      "cell_type": "markdown",
      "source": [
        "# Import Libraries"
      ],
      "metadata": {
        "id": "JFK-jY-atGhz"
      }
    },
    {
      "cell_type": "code",
      "source": [
        "!pip install torch torchvision torchaudio --index-url https://download.pytorch.org/whl/cu121\n",
        "!pip install torch-geometric pywavelets"
      ],
      "metadata": {
        "colab": {
          "base_uri": "https://localhost:8080/"
        },
        "collapsed": true,
        "id": "uLpZcd-WZco8",
        "outputId": "1d29a7cb-4a67-48e6-e7d2-413e326f462d"
      },
      "execution_count": null,
      "outputs": [
        {
          "output_type": "stream",
          "name": "stdout",
          "text": [
            "Looking in indexes: https://download.pytorch.org/whl/cu121\n",
            "Requirement already satisfied: torch in /usr/local/lib/python3.10/dist-packages (2.3.0+cu121)\n",
            "Requirement already satisfied: torchvision in /usr/local/lib/python3.10/dist-packages (0.18.0+cu121)\n",
            "Requirement already satisfied: torchaudio in /usr/local/lib/python3.10/dist-packages (2.3.0+cu121)\n",
            "Requirement already satisfied: filelock in /usr/local/lib/python3.10/dist-packages (from torch) (3.15.4)\n",
            "Requirement already satisfied: typing-extensions>=4.8.0 in /usr/local/lib/python3.10/dist-packages (from torch) (4.12.2)\n",
            "Requirement already satisfied: sympy in /usr/local/lib/python3.10/dist-packages (from torch) (1.12.1)\n",
            "Requirement already satisfied: networkx in /usr/local/lib/python3.10/dist-packages (from torch) (3.3)\n",
            "Requirement already satisfied: jinja2 in /usr/local/lib/python3.10/dist-packages (from torch) (3.1.4)\n",
            "Requirement already satisfied: fsspec in /usr/local/lib/python3.10/dist-packages (from torch) (2023.6.0)\n",
            "Collecting nvidia-cuda-nvrtc-cu12==12.1.105 (from torch)\n",
            "  Downloading https://download.pytorch.org/whl/cu121/nvidia_cuda_nvrtc_cu12-12.1.105-py3-none-manylinux1_x86_64.whl (23.7 MB)\n",
            "\u001b[2K     \u001b[90m━━━━━━━━━━━━━━━━━━━━━━━━━━━━━━━━━━━━━━━━\u001b[0m \u001b[32m23.7/23.7 MB\u001b[0m \u001b[31m25.0 MB/s\u001b[0m eta \u001b[36m0:00:00\u001b[0m\n",
            "\u001b[?25hCollecting nvidia-cuda-runtime-cu12==12.1.105 (from torch)\n",
            "  Downloading https://download.pytorch.org/whl/cu121/nvidia_cuda_runtime_cu12-12.1.105-py3-none-manylinux1_x86_64.whl (823 kB)\n",
            "\u001b[2K     \u001b[90m━━━━━━━━━━━━━━━━━━━━━━━━━━━━━━━━━━━━━━━━\u001b[0m \u001b[32m823.6/823.6 kB\u001b[0m \u001b[31m12.5 MB/s\u001b[0m eta \u001b[36m0:00:00\u001b[0m\n",
            "\u001b[?25hCollecting nvidia-cuda-cupti-cu12==12.1.105 (from torch)\n",
            "  Downloading https://download.pytorch.org/whl/cu121/nvidia_cuda_cupti_cu12-12.1.105-py3-none-manylinux1_x86_64.whl (14.1 MB)\n",
            "\u001b[2K     \u001b[90m━━━━━━━━━━━━━━━━━━━━━━━━━━━━━━━━━━━━━━━━\u001b[0m \u001b[32m14.1/14.1 MB\u001b[0m \u001b[31m49.9 MB/s\u001b[0m eta \u001b[36m0:00:00\u001b[0m\n",
            "\u001b[?25hCollecting nvidia-cudnn-cu12==8.9.2.26 (from torch)\n",
            "  Downloading https://download.pytorch.org/whl/cu121/nvidia_cudnn_cu12-8.9.2.26-py3-none-manylinux1_x86_64.whl (731.7 MB)\n",
            "\u001b[2K     \u001b[90m━━━━━━━━━━━━━━━━━━━━━━━━━━━━━━━━━━━━━━━━\u001b[0m \u001b[32m731.7/731.7 MB\u001b[0m \u001b[31m1.8 MB/s\u001b[0m eta \u001b[36m0:00:00\u001b[0m\n",
            "\u001b[?25hCollecting nvidia-cublas-cu12==12.1.3.1 (from torch)\n",
            "  Downloading https://download.pytorch.org/whl/cu121/nvidia_cublas_cu12-12.1.3.1-py3-none-manylinux1_x86_64.whl (410.6 MB)\n",
            "\u001b[2K     \u001b[90m━━━━━━━━━━━━━━━━━━━━━━━━━━━━━━━━━━━━━━━━\u001b[0m \u001b[32m410.6/410.6 MB\u001b[0m \u001b[31m1.9 MB/s\u001b[0m eta \u001b[36m0:00:00\u001b[0m\n",
            "\u001b[?25hCollecting nvidia-cufft-cu12==11.0.2.54 (from torch)\n",
            "  Downloading https://download.pytorch.org/whl/cu121/nvidia_cufft_cu12-11.0.2.54-py3-none-manylinux1_x86_64.whl (121.6 MB)\n",
            "\u001b[2K     \u001b[90m━━━━━━━━━━━━━━━━━━━━━━━━━━━━━━━━━━━━━━━━\u001b[0m \u001b[32m121.6/121.6 MB\u001b[0m \u001b[31m7.9 MB/s\u001b[0m eta \u001b[36m0:00:00\u001b[0m\n",
            "\u001b[?25hCollecting nvidia-curand-cu12==10.3.2.106 (from torch)\n",
            "  Downloading https://download.pytorch.org/whl/cu121/nvidia_curand_cu12-10.3.2.106-py3-none-manylinux1_x86_64.whl (56.5 MB)\n",
            "\u001b[2K     \u001b[90m━━━━━━━━━━━━━━━━━━━━━━━━━━━━━━━━━━━━━━━━\u001b[0m \u001b[32m56.5/56.5 MB\u001b[0m \u001b[31m13.0 MB/s\u001b[0m eta \u001b[36m0:00:00\u001b[0m\n",
            "\u001b[?25hCollecting nvidia-cusolver-cu12==11.4.5.107 (from torch)\n",
            "  Downloading https://download.pytorch.org/whl/cu121/nvidia_cusolver_cu12-11.4.5.107-py3-none-manylinux1_x86_64.whl (124.2 MB)\n",
            "\u001b[2K     \u001b[90m━━━━━━━━━━━━━━━━━━━━━━━━━━━━━━━━━━━━━━━━\u001b[0m \u001b[32m124.2/124.2 MB\u001b[0m \u001b[31m6.1 MB/s\u001b[0m eta \u001b[36m0:00:00\u001b[0m\n",
            "\u001b[?25hCollecting nvidia-cusparse-cu12==12.1.0.106 (from torch)\n",
            "  Downloading https://download.pytorch.org/whl/cu121/nvidia_cusparse_cu12-12.1.0.106-py3-none-manylinux1_x86_64.whl (196.0 MB)\n",
            "\u001b[2K     \u001b[90m━━━━━━━━━━━━━━━━━━━━━━━━━━━━━━━━━━━━━━━━\u001b[0m \u001b[32m196.0/196.0 MB\u001b[0m \u001b[31m2.6 MB/s\u001b[0m eta \u001b[36m0:00:00\u001b[0m\n",
            "\u001b[?25hCollecting nvidia-nccl-cu12==2.20.5 (from torch)\n",
            "  Downloading https://download.pytorch.org/whl/cu121/nvidia_nccl_cu12-2.20.5-py3-none-manylinux2014_x86_64.whl (176.2 MB)\n",
            "\u001b[2K     \u001b[90m━━━━━━━━━━━━━━━━━━━━━━━━━━━━━━━━━━━━━━━━\u001b[0m \u001b[32m176.2/176.2 MB\u001b[0m \u001b[31m5.7 MB/s\u001b[0m eta \u001b[36m0:00:00\u001b[0m\n",
            "\u001b[?25hCollecting nvidia-nvtx-cu12==12.1.105 (from torch)\n",
            "  Downloading https://download.pytorch.org/whl/cu121/nvidia_nvtx_cu12-12.1.105-py3-none-manylinux1_x86_64.whl (99 kB)\n",
            "\u001b[2K     \u001b[90m━━━━━━━━━━━━━━━━━━━━━━━━━━━━━━━━━━━━━━━━\u001b[0m \u001b[32m99.1/99.1 kB\u001b[0m \u001b[31m8.4 MB/s\u001b[0m eta \u001b[36m0:00:00\u001b[0m\n",
            "\u001b[?25hRequirement already satisfied: triton==2.3.0 in /usr/local/lib/python3.10/dist-packages (from torch) (2.3.0)\n",
            "Collecting nvidia-nvjitlink-cu12 (from nvidia-cusolver-cu12==11.4.5.107->torch)\n",
            "  Downloading https://download.pytorch.org/whl/cu121/nvidia_nvjitlink_cu12-12.1.105-py3-none-manylinux1_x86_64.whl (19.8 MB)\n",
            "\u001b[2K     \u001b[90m━━━━━━━━━━━━━━━━━━━━━━━━━━━━━━━━━━━━━━━━\u001b[0m \u001b[32m19.8/19.8 MB\u001b[0m \u001b[31m55.7 MB/s\u001b[0m eta \u001b[36m0:00:00\u001b[0m\n",
            "\u001b[?25hRequirement already satisfied: numpy in /usr/local/lib/python3.10/dist-packages (from torchvision) (1.25.2)\n",
            "Requirement already satisfied: pillow!=8.3.*,>=5.3.0 in /usr/local/lib/python3.10/dist-packages (from torchvision) (9.4.0)\n",
            "Requirement already satisfied: MarkupSafe>=2.0 in /usr/local/lib/python3.10/dist-packages (from jinja2->torch) (2.1.5)\n",
            "Requirement already satisfied: mpmath<1.4.0,>=1.1.0 in /usr/local/lib/python3.10/dist-packages (from sympy->torch) (1.3.0)\n",
            "Installing collected packages: nvidia-nvtx-cu12, nvidia-nvjitlink-cu12, nvidia-nccl-cu12, nvidia-curand-cu12, nvidia-cufft-cu12, nvidia-cuda-runtime-cu12, nvidia-cuda-nvrtc-cu12, nvidia-cuda-cupti-cu12, nvidia-cublas-cu12, nvidia-cusparse-cu12, nvidia-cudnn-cu12, nvidia-cusolver-cu12\n",
            "Successfully installed nvidia-cublas-cu12-12.1.3.1 nvidia-cuda-cupti-cu12-12.1.105 nvidia-cuda-nvrtc-cu12-12.1.105 nvidia-cuda-runtime-cu12-12.1.105 nvidia-cudnn-cu12-8.9.2.26 nvidia-cufft-cu12-11.0.2.54 nvidia-curand-cu12-10.3.2.106 nvidia-cusolver-cu12-11.4.5.107 nvidia-cusparse-cu12-12.1.0.106 nvidia-nccl-cu12-2.20.5 nvidia-nvjitlink-cu12-12.1.105 nvidia-nvtx-cu12-12.1.105\n",
            "Collecting torch-geometric\n",
            "  Downloading torch_geometric-2.5.3-py3-none-any.whl (1.1 MB)\n",
            "\u001b[2K     \u001b[90m━━━━━━━━━━━━━━━━━━━━━━━━━━━━━━━━━━━━━━━━\u001b[0m \u001b[32m1.1/1.1 MB\u001b[0m \u001b[31m4.8 MB/s\u001b[0m eta \u001b[36m0:00:00\u001b[0m\n",
            "\u001b[?25hRequirement already satisfied: pywavelets in /usr/local/lib/python3.10/dist-packages (1.6.0)\n",
            "Requirement already satisfied: tqdm in /usr/local/lib/python3.10/dist-packages (from torch-geometric) (4.66.4)\n",
            "Requirement already satisfied: numpy in /usr/local/lib/python3.10/dist-packages (from torch-geometric) (1.25.2)\n",
            "Requirement already satisfied: scipy in /usr/local/lib/python3.10/dist-packages (from torch-geometric) (1.11.4)\n",
            "Requirement already satisfied: fsspec in /usr/local/lib/python3.10/dist-packages (from torch-geometric) (2023.6.0)\n",
            "Requirement already satisfied: jinja2 in /usr/local/lib/python3.10/dist-packages (from torch-geometric) (3.1.4)\n",
            "Requirement already satisfied: aiohttp in /usr/local/lib/python3.10/dist-packages (from torch-geometric) (3.9.5)\n",
            "Requirement already satisfied: requests in /usr/local/lib/python3.10/dist-packages (from torch-geometric) (2.31.0)\n",
            "Requirement already satisfied: pyparsing in /usr/local/lib/python3.10/dist-packages (from torch-geometric) (3.1.2)\n",
            "Requirement already satisfied: scikit-learn in /usr/local/lib/python3.10/dist-packages (from torch-geometric) (1.2.2)\n",
            "Requirement already satisfied: psutil>=5.8.0 in /usr/local/lib/python3.10/dist-packages (from torch-geometric) (5.9.5)\n",
            "Requirement already satisfied: aiosignal>=1.1.2 in /usr/local/lib/python3.10/dist-packages (from aiohttp->torch-geometric) (1.3.1)\n",
            "Requirement already satisfied: attrs>=17.3.0 in /usr/local/lib/python3.10/dist-packages (from aiohttp->torch-geometric) (23.2.0)\n",
            "Requirement already satisfied: frozenlist>=1.1.1 in /usr/local/lib/python3.10/dist-packages (from aiohttp->torch-geometric) (1.4.1)\n",
            "Requirement already satisfied: multidict<7.0,>=4.5 in /usr/local/lib/python3.10/dist-packages (from aiohttp->torch-geometric) (6.0.5)\n",
            "Requirement already satisfied: yarl<2.0,>=1.0 in /usr/local/lib/python3.10/dist-packages (from aiohttp->torch-geometric) (1.9.4)\n",
            "Requirement already satisfied: async-timeout<5.0,>=4.0 in /usr/local/lib/python3.10/dist-packages (from aiohttp->torch-geometric) (4.0.3)\n",
            "Requirement already satisfied: MarkupSafe>=2.0 in /usr/local/lib/python3.10/dist-packages (from jinja2->torch-geometric) (2.1.5)\n",
            "Requirement already satisfied: charset-normalizer<4,>=2 in /usr/local/lib/python3.10/dist-packages (from requests->torch-geometric) (3.3.2)\n",
            "Requirement already satisfied: idna<4,>=2.5 in /usr/local/lib/python3.10/dist-packages (from requests->torch-geometric) (3.7)\n",
            "Requirement already satisfied: urllib3<3,>=1.21.1 in /usr/local/lib/python3.10/dist-packages (from requests->torch-geometric) (2.0.7)\n",
            "Requirement already satisfied: certifi>=2017.4.17 in /usr/local/lib/python3.10/dist-packages (from requests->torch-geometric) (2024.6.2)\n",
            "Requirement already satisfied: joblib>=1.1.1 in /usr/local/lib/python3.10/dist-packages (from scikit-learn->torch-geometric) (1.4.2)\n",
            "Requirement already satisfied: threadpoolctl>=2.0.0 in /usr/local/lib/python3.10/dist-packages (from scikit-learn->torch-geometric) (3.5.0)\n",
            "Installing collected packages: torch-geometric\n",
            "Successfully installed torch-geometric-2.5.3\n"
          ]
        }
      ]
    },
    {
      "cell_type": "code",
      "source": [
        "import torch\n",
        "import torch.nn.functional as F\n",
        "from torch_geometric.nn import GCNConv\n",
        "from torch_geometric.datasets import Planetoid\n",
        "from torch_geometric.transforms import NormalizeFeatures\n",
        "from torch.optim import Adam\n",
        "import numpy as np"
      ],
      "metadata": {
        "id": "e1a1Vy3-qGaJ"
      },
      "execution_count": null,
      "outputs": []
    },
    {
      "cell_type": "markdown",
      "source": [
        "# Load Dataset"
      ],
      "metadata": {
        "id": "GEyXCaOvtIDG"
      }
    },
    {
      "cell_type": "code",
      "source": [
        "# Load the dataset\n",
        "dataset = Planetoid(root='/tmp/Cora', name='Cora', transform=NormalizeFeatures())\n",
        "data = dataset[0]\n",
        "print(data.x)"
      ],
      "metadata": {
        "colab": {
          "base_uri": "https://localhost:8080/"
        },
        "id": "fS-kxC-0qKVD",
        "outputId": "787d956f-4c1e-4516-d17f-95ab56fe87c5"
      },
      "execution_count": null,
      "outputs": [
        {
          "output_type": "stream",
          "name": "stdout",
          "text": [
            "tensor([[0., 0., 0.,  ..., 0., 0., 0.],\n",
            "        [0., 0., 0.,  ..., 0., 0., 0.],\n",
            "        [0., 0., 0.,  ..., 0., 0., 0.],\n",
            "        ...,\n",
            "        [0., 0., 0.,  ..., 0., 0., 0.],\n",
            "        [0., 0., 0.,  ..., 0., 0., 0.],\n",
            "        [0., 0., 0.,  ..., 0., 0., 0.]])\n"
          ]
        }
      ]
    },
    {
      "cell_type": "markdown",
      "source": [
        "# Define Graph Neural Network"
      ],
      "metadata": {
        "id": "aC33An-5tJQN"
      }
    },
    {
      "cell_type": "code",
      "source": [
        "# Define the GNN\n",
        "class GNN(torch.nn.Module):\n",
        "    def __init__(self, num_features, num_classes):\n",
        "        super(GNN, self).__init__()\n",
        "        self.conv1 = GCNConv(num_features, 16)\n",
        "        self.conv2 = GCNConv(16, num_classes)\n",
        "\n",
        "    def forward(self, data):\n",
        "        x, edge_index = data.x, data.edge_index\n",
        "        x = self.conv1(x, edge_index)\n",
        "        x = F.relu(x)\n",
        "        x = self.conv2(x, edge_index)\n",
        "        return F.log_softmax(x, dim=1)"
      ],
      "metadata": {
        "id": "BdOrXDZ5qINO"
      },
      "execution_count": null,
      "outputs": []
    },
    {
      "cell_type": "markdown",
      "source": [
        "# Set Hyperparameters"
      ],
      "metadata": {
        "id": "J1qQj7qawrl7"
      }
    },
    {
      "cell_type": "code",
      "source": [
        "device = torch.device('cuda' if torch.cuda.is_available() else 'cpu')\n",
        "model = GNN(dataset.num_features, dataset.num_classes).to(device)\n",
        "data = data.to(device)\n",
        "optimizer = torch.optim.Adam(model.parameters(), lr=0.01, weight_decay=5e-4)"
      ],
      "metadata": {
        "id": "CSAJY23NqYi9"
      },
      "execution_count": null,
      "outputs": []
    },
    {
      "cell_type": "markdown",
      "source": [
        "# Train Model"
      ],
      "metadata": {
        "id": "8oYo08xMtObP"
      }
    },
    {
      "cell_type": "code",
      "source": [
        "model.train()\n",
        "for epoch in range(200):\n",
        "    optimizer.zero_grad()\n",
        "    out = model(data)\n",
        "    loss = F.nll_loss(out[data.train_mask], data.y[data.train_mask])\n",
        "    loss.backward()\n",
        "    optimizer.step()"
      ],
      "metadata": {
        "id": "U05Tm_cwqbbz"
      },
      "execution_count": null,
      "outputs": []
    },
    {
      "cell_type": "markdown",
      "source": [
        "# Get the Accuracy of the Model"
      ],
      "metadata": {
        "id": "amvn47yPtRBq"
      }
    },
    {
      "cell_type": "code",
      "source": [
        "# Evaluate the model\n",
        "def evaluate(model, data):\n",
        "    model.eval()\n",
        "    _, pred = model(data).max(dim=1)\n",
        "    correct = (pred[data.test_mask] == data.y[data.test_mask]).sum().item()\n",
        "    accuracy = correct / data.test_mask.sum().item()\n",
        "    return accuracy\n",
        "\n",
        "accuracy_before = evaluate(model, data)\n",
        "print(f'Accuracy before attacks: {accuracy_before:.4f}')"
      ],
      "metadata": {
        "colab": {
          "base_uri": "https://localhost:8080/"
        },
        "id": "NL3Rjm3MqcR5",
        "outputId": "4ba67609-56cc-4446-e0f2-e227a162ccae"
      },
      "execution_count": null,
      "outputs": [
        {
          "output_type": "stream",
          "name": "stdout",
          "text": [
            "Accuracy before attacks: 0.8150\n"
          ]
        }
      ]
    },
    {
      "cell_type": "markdown",
      "source": [
        "# FGSM Attack"
      ],
      "metadata": {
        "id": "PHOqP_BqtB9G"
      }
    },
    {
      "cell_type": "code",
      "source": [
        "# FGSM Attack\n",
        "def fgsm_attack(model, data, epsilon):\n",
        "    data.x.requires_grad = True\n",
        "    output = model(data)\n",
        "    loss = F.nll_loss(output[data.train_mask], data.y[data.train_mask])\n",
        "    model.zero_grad()\n",
        "    loss.backward()\n",
        "    data_grad = data.x.grad.data\n",
        "    sign_data_grad = data_grad.sign()\n",
        "    perturbed_data = data.x + epsilon * sign_data_grad\n",
        "    perturbed_data = torch.clamp(perturbed_data, 0, 1)\n",
        "    return perturbed_data\n",
        "\n",
        "epsilon = 0.1\n",
        "data_fgsm = data.clone()\n",
        "data_fgsm.x = fgsm_attack(model, data, epsilon)\n",
        "accuracy_after_fgsm = evaluate(model, data_fgsm)\n",
        "print(f'Accuracy after FGSM attack: {accuracy_after_fgsm:.4f}')"
      ],
      "metadata": {
        "colab": {
          "base_uri": "https://localhost:8080/"
        },
        "id": "wnCY2OSHqe_K",
        "outputId": "f16f8a90-8cfc-46a5-d36d-6e6d8fe6c0e2"
      },
      "execution_count": null,
      "outputs": [
        {
          "output_type": "stream",
          "name": "stdout",
          "text": [
            "Accuracy after FGSM attack: 0.1150\n"
          ]
        }
      ]
    },
    {
      "cell_type": "markdown",
      "source": [
        "# PGD Attack"
      ],
      "metadata": {
        "id": "ILLvEN4AtDjy"
      }
    },
    {
      "cell_type": "code",
      "source": [
        "def pgd_attack(model, data, epsilon, alpha, num_iter):\n",
        "    perturbed_data = data.x.clone().detach().requires_grad_(True)\n",
        "    for _ in range(num_iter):\n",
        "        data.x = perturbed_data  # Use perturbed_data in the forward pass\n",
        "        output = model(data)\n",
        "        loss = F.nll_loss(output[data.train_mask], data.y[data.train_mask])\n",
        "        model.zero_grad()\n",
        "        loss.backward()\n",
        "        data_grad = perturbed_data.grad.data\n",
        "        perturbed_data = perturbed_data + alpha * data_grad.sign()\n",
        "        perturbation = torch.clamp(perturbed_data - data.x, -epsilon, epsilon)\n",
        "        perturbed_data = torch.clamp(data.x + perturbation, 0, 1)\n",
        "        perturbed_data = perturbed_data.detach().requires_grad_(True)\n",
        "    return perturbed_data\n",
        "\n",
        "alpha = 0.01\n",
        "num_iter = 40\n",
        "data_pgd = data.clone()\n",
        "data_pgd.x = pgd_attack(model, data, epsilon, alpha, num_iter)\n",
        "accuracy_after_pgd = evaluate(model, data_pgd)\n",
        "print(f'Accuracy after PGD attack: {accuracy_after_pgd:.4f}')"
      ],
      "metadata": {
        "colab": {
          "base_uri": "https://localhost:8080/"
        },
        "id": "2AT1PV4Pqh-U",
        "outputId": "c56a9d6f-2e28-4a7b-9424-4901b2f02a6c"
      },
      "execution_count": null,
      "outputs": [
        {
          "output_type": "stream",
          "name": "stdout",
          "text": [
            "Accuracy after PGD attack: 0.0900\n"
          ]
        }
      ]
    },
    {
      "cell_type": "markdown",
      "source": [
        "# Carlini & Wagner (C&W) Attack"
      ],
      "metadata": {
        "id": "gedcYJTls5A-"
      }
    },
    {
      "cell_type": "code",
      "execution_count": null,
      "metadata": {
        "colab": {
          "base_uri": "https://localhost:8080/"
        },
        "id": "JHD78oL4Zbxs",
        "outputId": "38b48afa-19f8-4935-90d5-3f84873b85a9"
      },
      "outputs": [
        {
          "output_type": "stream",
          "name": "stdout",
          "text": [
            "Accuracy after C&W attack: 0.0900\n"
          ]
        }
      ],
      "source": [
        "# Carlini & Wagner (C&W) Attack\n",
        "def cw_attack(model, data, c=1e-4, lr=0.01, num_iter=1000):\n",
        "    data_adv = data.clone()\n",
        "    delta = torch.zeros_like(data.x, requires_grad=True).to(device)\n",
        "    optimizer = Adam([delta], lr=lr)\n",
        "\n",
        "    for _ in range(num_iter):\n",
        "        optimizer.zero_grad()\n",
        "        adv_data = data.x + delta\n",
        "        output = model(data)\n",
        "        loss1 = F.nll_loss(output[data.train_mask], data.y[data.train_mask])\n",
        "        loss2 = c * torch.norm(delta, p=2)\n",
        "        loss = loss1 + loss2\n",
        "        loss.backward()\n",
        "        optimizer.step()\n",
        "        delta.data = torch.clamp(data.x + delta.data, 0, 1) - data.x\n",
        "    data_adv.x = torch.clamp(data.x + delta.data, 0, 1)\n",
        "    return data_adv.x\n",
        "\n",
        "data_cw = data.clone()\n",
        "data_cw.x = cw_attack(model, data)\n",
        "accuracy_after_cw = evaluate(model, data_cw)\n",
        "print(f'Accuracy after C&W attack: {accuracy_after_cw:.4f}')\n",
        "\n"
      ]
    },
    {
      "cell_type": "markdown",
      "source": [
        "# DeepFool Attack"
      ],
      "metadata": {
        "id": "DcwcaV78rP_8"
      }
    },
    {
      "cell_type": "code",
      "source": [
        "def deepfool_attack(model, data, num_iter=50, overshoot=0.02):\n",
        "    data_adv = data.clone()\n",
        "    perturbed_data = data.x.clone().detach().requires_grad_(True)\n",
        "\n",
        "    for _ in range(num_iter):\n",
        "        data.x = perturbed_data  # Use perturbed_data in the forward pass\n",
        "        output = model(data)\n",
        "        loss = F.nll_loss(output[data.train_mask], data.y[data.train_mask])\n",
        "        model.zero_grad()\n",
        "        loss.backward()\n",
        "\n",
        "        # Ensure gradients are not None\n",
        "        grad = perturbed_data.grad\n",
        "        if grad is None:\n",
        "            break\n",
        "\n",
        "        with torch.no_grad():\n",
        "            output = model(data)\n",
        "            _, pred = output.max(dim=1)\n",
        "            if pred[data.test_mask].eq(data.y[data.test_mask]).sum().item() == 0:\n",
        "                break\n",
        "            r_i = overshoot * grad / torch.norm(grad, p=2)\n",
        "            perturbed_data = perturbed_data + r_i\n",
        "            perturbed_data = torch.clamp(perturbed_data, 0, 1).detach().requires_grad_(True)\n",
        "\n",
        "        data.x = perturbed_data  # Update data.x with the new perturbed data\n",
        "\n",
        "    data_adv.x = perturbed_data.detach()\n",
        "    return data_adv.x\n",
        "\n",
        "data_deepfool = data.clone()\n",
        "data_deepfool.x = deepfool_attack(model, data)\n",
        "accuracy_after_deepfool = evaluate(model, data_deepfool)\n",
        "print(f'Accuracy after DeepFool attack: {accuracy_after_deepfool:.4f}')"
      ],
      "metadata": {
        "colab": {
          "base_uri": "https://localhost:8080/"
        },
        "id": "w8ETFTAXQeOO",
        "outputId": "861f97d0-f7ab-4279-f0ec-af7d3c6081a9"
      },
      "execution_count": null,
      "outputs": [
        {
          "output_type": "stream",
          "name": "stdout",
          "text": [
            "Accuracy after DeepFool attack: 0.0900\n"
          ]
        }
      ]
    },
    {
      "cell_type": "markdown",
      "source": [
        "# Train ML Model to Handle Attacks"
      ],
      "metadata": {
        "id": "v2t-WWBarRXT"
      }
    },
    {
      "cell_type": "code",
      "source": [
        "model_clean = GNN(dataset.num_node_features, dataset.num_classes).to(device)\n",
        "model_perturbed = GNN(dataset.num_node_features, dataset.num_classes).to(device)\n",
        "optimizer_clean = Adam(model_clean.parameters(), lr=0.01, weight_decay=5e-4)\n",
        "optimizer_perturbed = Adam(model_perturbed.parameters(), lr=0.01, weight_decay=5e-4)\n",
        "\n",
        "# Perturb the data using FGSM\n",
        "epsilon = 0.1\n",
        "perturbed_data = data.clone()\n",
        "perturbed_data.x = fgsm_attack(model_clean, data, epsilon)\n",
        "\n",
        "# Training function\n",
        "def train_mixed(model, optimizer, data, perturbed_data, alpha=0.9):\n",
        "    model.train()\n",
        "    optimizer.zero_grad()\n",
        "\n",
        "    # Clean data loss\n",
        "    out_clean = model(data)\n",
        "    loss_clean = F.nll_loss(out_clean[data.train_mask], data.y[data.train_mask])\n",
        "\n",
        "    # Perturbed data loss\n",
        "    out_perturbed = model(perturbed_data)\n",
        "    loss_perturbed = F.nll_loss(out_perturbed[perturbed_data.train_mask], perturbed_data.y[perturbed_data.train_mask])\n",
        "\n",
        "    # Combined loss\n",
        "    loss = alpha * loss_clean + (1 - alpha) * loss_perturbed\n",
        "    loss.backward(retain_graph=True)\n",
        "    optimizer.step()\n",
        "\n",
        "# Testing function\n",
        "def test(model, data):\n",
        "    model.eval()\n",
        "    out = model(data)\n",
        "    pred = out.argmax(dim=1)\n",
        "    correct = (pred[data.test_mask] == data.y[data.test_mask]).sum()\n",
        "    acc = int(correct) / int(data.test_mask.sum())\n",
        "    return acc\n",
        "\n",
        "# Train model on mixed clean and perturbed data\n",
        "for epoch in range(200):\n",
        "    train_mixed(model_perturbed, optimizer_perturbed, data, perturbed_data, alpha=0.9)\n",
        "    acc_clean = test(model_perturbed, data)\n",
        "    acc_perturbed = test(model_perturbed, perturbed_data)\n",
        "    print(f'[Model Perturbed] Epoch {epoch + 1}, Accuracy on clean data: {acc_clean:.4f}, Accuracy on perturbed data: {acc_perturbed:.4f}')\n",
        "\n",
        "# Final evaluation\n",
        "clean_acc_perturbed = test(model_perturbed, data)\n",
        "perturbed_acc_perturbed = test(model_perturbed, perturbed_data)\n",
        "\n",
        "print(f'Final Accuracy on clean data: {clean_acc_perturbed:.4f}')\n",
        "print(f'Final Accuracy on perturbed data: {perturbed_acc_perturbed:.4f}')\n"
      ],
      "metadata": {
        "colab": {
          "base_uri": "https://localhost:8080/"
        },
        "id": "VuNmgEaYrYae",
        "outputId": "29f38b35-623b-4811-b02f-d0054b08406d"
      },
      "execution_count": null,
      "outputs": [
        {
          "output_type": "stream",
          "name": "stdout",
          "text": [
            "[Model Perturbed] Epoch 1, Accuracy on clean data: 0.3090, Accuracy on perturbed data: 0.2250\n",
            "[Model Perturbed] Epoch 2, Accuracy on clean data: 0.3080, Accuracy on perturbed data: 0.3520\n",
            "[Model Perturbed] Epoch 3, Accuracy on clean data: 0.4250, Accuracy on perturbed data: 0.4410\n",
            "[Model Perturbed] Epoch 4, Accuracy on clean data: 0.5180, Accuracy on perturbed data: 0.5250\n",
            "[Model Perturbed] Epoch 5, Accuracy on clean data: 0.5390, Accuracy on perturbed data: 0.5350\n",
            "[Model Perturbed] Epoch 6, Accuracy on clean data: 0.5580, Accuracy on perturbed data: 0.5470\n",
            "[Model Perturbed] Epoch 7, Accuracy on clean data: 0.6150, Accuracy on perturbed data: 0.5730\n",
            "[Model Perturbed] Epoch 8, Accuracy on clean data: 0.6330, Accuracy on perturbed data: 0.5710\n",
            "[Model Perturbed] Epoch 9, Accuracy on clean data: 0.6280, Accuracy on perturbed data: 0.5580\n",
            "[Model Perturbed] Epoch 10, Accuracy on clean data: 0.6340, Accuracy on perturbed data: 0.5680\n",
            "[Model Perturbed] Epoch 11, Accuracy on clean data: 0.6350, Accuracy on perturbed data: 0.5870\n",
            "[Model Perturbed] Epoch 12, Accuracy on clean data: 0.6380, Accuracy on perturbed data: 0.6020\n",
            "[Model Perturbed] Epoch 13, Accuracy on clean data: 0.6430, Accuracy on perturbed data: 0.6300\n",
            "[Model Perturbed] Epoch 14, Accuracy on clean data: 0.6430, Accuracy on perturbed data: 0.6310\n",
            "[Model Perturbed] Epoch 15, Accuracy on clean data: 0.6410, Accuracy on perturbed data: 0.6260\n",
            "[Model Perturbed] Epoch 16, Accuracy on clean data: 0.6360, Accuracy on perturbed data: 0.6290\n",
            "[Model Perturbed] Epoch 17, Accuracy on clean data: 0.6290, Accuracy on perturbed data: 0.6210\n",
            "[Model Perturbed] Epoch 18, Accuracy on clean data: 0.6290, Accuracy on perturbed data: 0.6170\n",
            "[Model Perturbed] Epoch 19, Accuracy on clean data: 0.6290, Accuracy on perturbed data: 0.6160\n",
            "[Model Perturbed] Epoch 20, Accuracy on clean data: 0.6350, Accuracy on perturbed data: 0.6170\n",
            "[Model Perturbed] Epoch 21, Accuracy on clean data: 0.6450, Accuracy on perturbed data: 0.6260\n",
            "[Model Perturbed] Epoch 22, Accuracy on clean data: 0.6500, Accuracy on perturbed data: 0.6300\n",
            "[Model Perturbed] Epoch 23, Accuracy on clean data: 0.6510, Accuracy on perturbed data: 0.6310\n",
            "[Model Perturbed] Epoch 24, Accuracy on clean data: 0.6510, Accuracy on perturbed data: 0.6310\n",
            "[Model Perturbed] Epoch 25, Accuracy on clean data: 0.6520, Accuracy on perturbed data: 0.6300\n",
            "[Model Perturbed] Epoch 26, Accuracy on clean data: 0.6510, Accuracy on perturbed data: 0.6310\n",
            "[Model Perturbed] Epoch 27, Accuracy on clean data: 0.6500, Accuracy on perturbed data: 0.6330\n",
            "[Model Perturbed] Epoch 28, Accuracy on clean data: 0.6490, Accuracy on perturbed data: 0.6390\n",
            "[Model Perturbed] Epoch 29, Accuracy on clean data: 0.6490, Accuracy on perturbed data: 0.6420\n",
            "[Model Perturbed] Epoch 30, Accuracy on clean data: 0.6500, Accuracy on perturbed data: 0.6420\n",
            "[Model Perturbed] Epoch 31, Accuracy on clean data: 0.6490, Accuracy on perturbed data: 0.6410\n",
            "[Model Perturbed] Epoch 32, Accuracy on clean data: 0.6500, Accuracy on perturbed data: 0.6410\n",
            "[Model Perturbed] Epoch 33, Accuracy on clean data: 0.6480, Accuracy on perturbed data: 0.6430\n",
            "[Model Perturbed] Epoch 34, Accuracy on clean data: 0.6520, Accuracy on perturbed data: 0.6450\n",
            "[Model Perturbed] Epoch 35, Accuracy on clean data: 0.6520, Accuracy on perturbed data: 0.6510\n",
            "[Model Perturbed] Epoch 36, Accuracy on clean data: 0.6520, Accuracy on perturbed data: 0.6500\n",
            "[Model Perturbed] Epoch 37, Accuracy on clean data: 0.6520, Accuracy on perturbed data: 0.6500\n",
            "[Model Perturbed] Epoch 38, Accuracy on clean data: 0.6520, Accuracy on perturbed data: 0.6490\n",
            "[Model Perturbed] Epoch 39, Accuracy on clean data: 0.6490, Accuracy on perturbed data: 0.6490\n",
            "[Model Perturbed] Epoch 40, Accuracy on clean data: 0.6500, Accuracy on perturbed data: 0.6490\n",
            "[Model Perturbed] Epoch 41, Accuracy on clean data: 0.6500, Accuracy on perturbed data: 0.6460\n",
            "[Model Perturbed] Epoch 42, Accuracy on clean data: 0.6500, Accuracy on perturbed data: 0.6450\n",
            "[Model Perturbed] Epoch 43, Accuracy on clean data: 0.6500, Accuracy on perturbed data: 0.6430\n",
            "[Model Perturbed] Epoch 44, Accuracy on clean data: 0.6500, Accuracy on perturbed data: 0.6420\n",
            "[Model Perturbed] Epoch 45, Accuracy on clean data: 0.6490, Accuracy on perturbed data: 0.6410\n",
            "[Model Perturbed] Epoch 46, Accuracy on clean data: 0.6490, Accuracy on perturbed data: 0.6420\n",
            "[Model Perturbed] Epoch 47, Accuracy on clean data: 0.6480, Accuracy on perturbed data: 0.6410\n",
            "[Model Perturbed] Epoch 48, Accuracy on clean data: 0.6490, Accuracy on perturbed data: 0.6420\n",
            "[Model Perturbed] Epoch 49, Accuracy on clean data: 0.6480, Accuracy on perturbed data: 0.6410\n",
            "[Model Perturbed] Epoch 50, Accuracy on clean data: 0.6470, Accuracy on perturbed data: 0.6400\n",
            "[Model Perturbed] Epoch 51, Accuracy on clean data: 0.6470, Accuracy on perturbed data: 0.6410\n",
            "[Model Perturbed] Epoch 52, Accuracy on clean data: 0.6480, Accuracy on perturbed data: 0.6410\n",
            "[Model Perturbed] Epoch 53, Accuracy on clean data: 0.6490, Accuracy on perturbed data: 0.6400\n",
            "[Model Perturbed] Epoch 54, Accuracy on clean data: 0.6490, Accuracy on perturbed data: 0.6400\n",
            "[Model Perturbed] Epoch 55, Accuracy on clean data: 0.6490, Accuracy on perturbed data: 0.6390\n",
            "[Model Perturbed] Epoch 56, Accuracy on clean data: 0.6490, Accuracy on perturbed data: 0.6370\n",
            "[Model Perturbed] Epoch 57, Accuracy on clean data: 0.6490, Accuracy on perturbed data: 0.6360\n",
            "[Model Perturbed] Epoch 58, Accuracy on clean data: 0.6480, Accuracy on perturbed data: 0.6350\n",
            "[Model Perturbed] Epoch 59, Accuracy on clean data: 0.6480, Accuracy on perturbed data: 0.6370\n",
            "[Model Perturbed] Epoch 60, Accuracy on clean data: 0.6480, Accuracy on perturbed data: 0.6370\n",
            "[Model Perturbed] Epoch 61, Accuracy on clean data: 0.6480, Accuracy on perturbed data: 0.6370\n",
            "[Model Perturbed] Epoch 62, Accuracy on clean data: 0.6480, Accuracy on perturbed data: 0.6380\n",
            "[Model Perturbed] Epoch 63, Accuracy on clean data: 0.6480, Accuracy on perturbed data: 0.6380\n",
            "[Model Perturbed] Epoch 64, Accuracy on clean data: 0.6480, Accuracy on perturbed data: 0.6390\n",
            "[Model Perturbed] Epoch 65, Accuracy on clean data: 0.6490, Accuracy on perturbed data: 0.6390\n",
            "[Model Perturbed] Epoch 66, Accuracy on clean data: 0.6480, Accuracy on perturbed data: 0.6380\n",
            "[Model Perturbed] Epoch 67, Accuracy on clean data: 0.6480, Accuracy on perturbed data: 0.6380\n",
            "[Model Perturbed] Epoch 68, Accuracy on clean data: 0.6480, Accuracy on perturbed data: 0.6380\n",
            "[Model Perturbed] Epoch 69, Accuracy on clean data: 0.6480, Accuracy on perturbed data: 0.6390\n",
            "[Model Perturbed] Epoch 70, Accuracy on clean data: 0.6480, Accuracy on perturbed data: 0.6400\n",
            "[Model Perturbed] Epoch 71, Accuracy on clean data: 0.6490, Accuracy on perturbed data: 0.6400\n",
            "[Model Perturbed] Epoch 72, Accuracy on clean data: 0.6490, Accuracy on perturbed data: 0.6400\n",
            "[Model Perturbed] Epoch 73, Accuracy on clean data: 0.6500, Accuracy on perturbed data: 0.6400\n",
            "[Model Perturbed] Epoch 74, Accuracy on clean data: 0.6490, Accuracy on perturbed data: 0.6410\n",
            "[Model Perturbed] Epoch 75, Accuracy on clean data: 0.6490, Accuracy on perturbed data: 0.6410\n",
            "[Model Perturbed] Epoch 76, Accuracy on clean data: 0.6490, Accuracy on perturbed data: 0.6410\n",
            "[Model Perturbed] Epoch 77, Accuracy on clean data: 0.6490, Accuracy on perturbed data: 0.6410\n",
            "[Model Perturbed] Epoch 78, Accuracy on clean data: 0.6490, Accuracy on perturbed data: 0.6410\n",
            "[Model Perturbed] Epoch 79, Accuracy on clean data: 0.6500, Accuracy on perturbed data: 0.6410\n",
            "[Model Perturbed] Epoch 80, Accuracy on clean data: 0.6500, Accuracy on perturbed data: 0.6410\n",
            "[Model Perturbed] Epoch 81, Accuracy on clean data: 0.6500, Accuracy on perturbed data: 0.6400\n",
            "[Model Perturbed] Epoch 82, Accuracy on clean data: 0.6500, Accuracy on perturbed data: 0.6400\n",
            "[Model Perturbed] Epoch 83, Accuracy on clean data: 0.6500, Accuracy on perturbed data: 0.6400\n",
            "[Model Perturbed] Epoch 84, Accuracy on clean data: 0.6500, Accuracy on perturbed data: 0.6400\n",
            "[Model Perturbed] Epoch 85, Accuracy on clean data: 0.6500, Accuracy on perturbed data: 0.6400\n",
            "[Model Perturbed] Epoch 86, Accuracy on clean data: 0.6500, Accuracy on perturbed data: 0.6400\n",
            "[Model Perturbed] Epoch 87, Accuracy on clean data: 0.6500, Accuracy on perturbed data: 0.6400\n",
            "[Model Perturbed] Epoch 88, Accuracy on clean data: 0.6500, Accuracy on perturbed data: 0.6400\n",
            "[Model Perturbed] Epoch 89, Accuracy on clean data: 0.6500, Accuracy on perturbed data: 0.6410\n",
            "[Model Perturbed] Epoch 90, Accuracy on clean data: 0.6510, Accuracy on perturbed data: 0.6410\n",
            "[Model Perturbed] Epoch 91, Accuracy on clean data: 0.6520, Accuracy on perturbed data: 0.6410\n",
            "[Model Perturbed] Epoch 92, Accuracy on clean data: 0.6520, Accuracy on perturbed data: 0.6410\n",
            "[Model Perturbed] Epoch 93, Accuracy on clean data: 0.6520, Accuracy on perturbed data: 0.6410\n",
            "[Model Perturbed] Epoch 94, Accuracy on clean data: 0.6530, Accuracy on perturbed data: 0.6420\n",
            "[Model Perturbed] Epoch 95, Accuracy on clean data: 0.6530, Accuracy on perturbed data: 0.6420\n",
            "[Model Perturbed] Epoch 96, Accuracy on clean data: 0.6540, Accuracy on perturbed data: 0.6420\n",
            "[Model Perturbed] Epoch 97, Accuracy on clean data: 0.6540, Accuracy on perturbed data: 0.6420\n",
            "[Model Perturbed] Epoch 98, Accuracy on clean data: 0.6540, Accuracy on perturbed data: 0.6420\n",
            "[Model Perturbed] Epoch 99, Accuracy on clean data: 0.6540, Accuracy on perturbed data: 0.6420\n",
            "[Model Perturbed] Epoch 100, Accuracy on clean data: 0.6540, Accuracy on perturbed data: 0.6410\n",
            "[Model Perturbed] Epoch 101, Accuracy on clean data: 0.6530, Accuracy on perturbed data: 0.6410\n",
            "[Model Perturbed] Epoch 102, Accuracy on clean data: 0.6530, Accuracy on perturbed data: 0.6410\n",
            "[Model Perturbed] Epoch 103, Accuracy on clean data: 0.6530, Accuracy on perturbed data: 0.6410\n",
            "[Model Perturbed] Epoch 104, Accuracy on clean data: 0.6530, Accuracy on perturbed data: 0.6410\n",
            "[Model Perturbed] Epoch 105, Accuracy on clean data: 0.6530, Accuracy on perturbed data: 0.6410\n",
            "[Model Perturbed] Epoch 106, Accuracy on clean data: 0.6530, Accuracy on perturbed data: 0.6410\n",
            "[Model Perturbed] Epoch 107, Accuracy on clean data: 0.6530, Accuracy on perturbed data: 0.6410\n",
            "[Model Perturbed] Epoch 108, Accuracy on clean data: 0.6540, Accuracy on perturbed data: 0.6410\n",
            "[Model Perturbed] Epoch 109, Accuracy on clean data: 0.6540, Accuracy on perturbed data: 0.6410\n",
            "[Model Perturbed] Epoch 110, Accuracy on clean data: 0.6540, Accuracy on perturbed data: 0.6410\n",
            "[Model Perturbed] Epoch 111, Accuracy on clean data: 0.6540, Accuracy on perturbed data: 0.6410\n",
            "[Model Perturbed] Epoch 112, Accuracy on clean data: 0.6540, Accuracy on perturbed data: 0.6410\n",
            "[Model Perturbed] Epoch 113, Accuracy on clean data: 0.6540, Accuracy on perturbed data: 0.6410\n",
            "[Model Perturbed] Epoch 114, Accuracy on clean data: 0.6540, Accuracy on perturbed data: 0.6410\n",
            "[Model Perturbed] Epoch 115, Accuracy on clean data: 0.6540, Accuracy on perturbed data: 0.6410\n",
            "[Model Perturbed] Epoch 116, Accuracy on clean data: 0.6550, Accuracy on perturbed data: 0.6410\n",
            "[Model Perturbed] Epoch 117, Accuracy on clean data: 0.6550, Accuracy on perturbed data: 0.6410\n",
            "[Model Perturbed] Epoch 118, Accuracy on clean data: 0.6550, Accuracy on perturbed data: 0.6400\n",
            "[Model Perturbed] Epoch 119, Accuracy on clean data: 0.6540, Accuracy on perturbed data: 0.6400\n",
            "[Model Perturbed] Epoch 120, Accuracy on clean data: 0.6540, Accuracy on perturbed data: 0.6400\n",
            "[Model Perturbed] Epoch 121, Accuracy on clean data: 0.6540, Accuracy on perturbed data: 0.6400\n",
            "[Model Perturbed] Epoch 122, Accuracy on clean data: 0.6540, Accuracy on perturbed data: 0.6400\n",
            "[Model Perturbed] Epoch 123, Accuracy on clean data: 0.6540, Accuracy on perturbed data: 0.6400\n",
            "[Model Perturbed] Epoch 124, Accuracy on clean data: 0.6540, Accuracy on perturbed data: 0.6400\n",
            "[Model Perturbed] Epoch 125, Accuracy on clean data: 0.6540, Accuracy on perturbed data: 0.6400\n",
            "[Model Perturbed] Epoch 126, Accuracy on clean data: 0.6540, Accuracy on perturbed data: 0.6400\n",
            "[Model Perturbed] Epoch 127, Accuracy on clean data: 0.6540, Accuracy on perturbed data: 0.6400\n",
            "[Model Perturbed] Epoch 128, Accuracy on clean data: 0.6540, Accuracy on perturbed data: 0.6400\n",
            "[Model Perturbed] Epoch 129, Accuracy on clean data: 0.6540, Accuracy on perturbed data: 0.6400\n",
            "[Model Perturbed] Epoch 130, Accuracy on clean data: 0.6540, Accuracy on perturbed data: 0.6400\n",
            "[Model Perturbed] Epoch 131, Accuracy on clean data: 0.6540, Accuracy on perturbed data: 0.6400\n",
            "[Model Perturbed] Epoch 132, Accuracy on clean data: 0.6540, Accuracy on perturbed data: 0.6400\n",
            "[Model Perturbed] Epoch 133, Accuracy on clean data: 0.6540, Accuracy on perturbed data: 0.6400\n",
            "[Model Perturbed] Epoch 134, Accuracy on clean data: 0.6540, Accuracy on perturbed data: 0.6400\n",
            "[Model Perturbed] Epoch 135, Accuracy on clean data: 0.6540, Accuracy on perturbed data: 0.6400\n",
            "[Model Perturbed] Epoch 136, Accuracy on clean data: 0.6530, Accuracy on perturbed data: 0.6400\n",
            "[Model Perturbed] Epoch 137, Accuracy on clean data: 0.6530, Accuracy on perturbed data: 0.6400\n",
            "[Model Perturbed] Epoch 138, Accuracy on clean data: 0.6530, Accuracy on perturbed data: 0.6400\n",
            "[Model Perturbed] Epoch 139, Accuracy on clean data: 0.6530, Accuracy on perturbed data: 0.6400\n",
            "[Model Perturbed] Epoch 140, Accuracy on clean data: 0.6530, Accuracy on perturbed data: 0.6400\n",
            "[Model Perturbed] Epoch 141, Accuracy on clean data: 0.6530, Accuracy on perturbed data: 0.6400\n",
            "[Model Perturbed] Epoch 142, Accuracy on clean data: 0.6530, Accuracy on perturbed data: 0.6400\n",
            "[Model Perturbed] Epoch 143, Accuracy on clean data: 0.6530, Accuracy on perturbed data: 0.6400\n",
            "[Model Perturbed] Epoch 144, Accuracy on clean data: 0.6530, Accuracy on perturbed data: 0.6400\n",
            "[Model Perturbed] Epoch 145, Accuracy on clean data: 0.6530, Accuracy on perturbed data: 0.6400\n",
            "[Model Perturbed] Epoch 146, Accuracy on clean data: 0.6540, Accuracy on perturbed data: 0.6410\n",
            "[Model Perturbed] Epoch 147, Accuracy on clean data: 0.6550, Accuracy on perturbed data: 0.6410\n",
            "[Model Perturbed] Epoch 148, Accuracy on clean data: 0.6550, Accuracy on perturbed data: 0.6410\n",
            "[Model Perturbed] Epoch 149, Accuracy on clean data: 0.6550, Accuracy on perturbed data: 0.6410\n",
            "[Model Perturbed] Epoch 150, Accuracy on clean data: 0.6550, Accuracy on perturbed data: 0.6410\n",
            "[Model Perturbed] Epoch 151, Accuracy on clean data: 0.6550, Accuracy on perturbed data: 0.6410\n",
            "[Model Perturbed] Epoch 152, Accuracy on clean data: 0.6550, Accuracy on perturbed data: 0.6410\n",
            "[Model Perturbed] Epoch 153, Accuracy on clean data: 0.6550, Accuracy on perturbed data: 0.6410\n",
            "[Model Perturbed] Epoch 154, Accuracy on clean data: 0.6550, Accuracy on perturbed data: 0.6410\n",
            "[Model Perturbed] Epoch 155, Accuracy on clean data: 0.6540, Accuracy on perturbed data: 0.6420\n",
            "[Model Perturbed] Epoch 156, Accuracy on clean data: 0.6540, Accuracy on perturbed data: 0.6420\n",
            "[Model Perturbed] Epoch 157, Accuracy on clean data: 0.6540, Accuracy on perturbed data: 0.6420\n",
            "[Model Perturbed] Epoch 158, Accuracy on clean data: 0.6540, Accuracy on perturbed data: 0.6420\n",
            "[Model Perturbed] Epoch 159, Accuracy on clean data: 0.6540, Accuracy on perturbed data: 0.6420\n",
            "[Model Perturbed] Epoch 160, Accuracy on clean data: 0.6540, Accuracy on perturbed data: 0.6420\n",
            "[Model Perturbed] Epoch 161, Accuracy on clean data: 0.6540, Accuracy on perturbed data: 0.6420\n",
            "[Model Perturbed] Epoch 162, Accuracy on clean data: 0.6540, Accuracy on perturbed data: 0.6420\n",
            "[Model Perturbed] Epoch 163, Accuracy on clean data: 0.6540, Accuracy on perturbed data: 0.6420\n",
            "[Model Perturbed] Epoch 164, Accuracy on clean data: 0.6540, Accuracy on perturbed data: 0.6420\n",
            "[Model Perturbed] Epoch 165, Accuracy on clean data: 0.6540, Accuracy on perturbed data: 0.6420\n",
            "[Model Perturbed] Epoch 166, Accuracy on clean data: 0.6540, Accuracy on perturbed data: 0.6420\n",
            "[Model Perturbed] Epoch 167, Accuracy on clean data: 0.6540, Accuracy on perturbed data: 0.6420\n",
            "[Model Perturbed] Epoch 168, Accuracy on clean data: 0.6540, Accuracy on perturbed data: 0.6420\n",
            "[Model Perturbed] Epoch 169, Accuracy on clean data: 0.6540, Accuracy on perturbed data: 0.6420\n",
            "[Model Perturbed] Epoch 170, Accuracy on clean data: 0.6540, Accuracy on perturbed data: 0.6420\n",
            "[Model Perturbed] Epoch 171, Accuracy on clean data: 0.6540, Accuracy on perturbed data: 0.6420\n",
            "[Model Perturbed] Epoch 172, Accuracy on clean data: 0.6540, Accuracy on perturbed data: 0.6420\n",
            "[Model Perturbed] Epoch 173, Accuracy on clean data: 0.6540, Accuracy on perturbed data: 0.6420\n",
            "[Model Perturbed] Epoch 174, Accuracy on clean data: 0.6540, Accuracy on perturbed data: 0.6420\n",
            "[Model Perturbed] Epoch 175, Accuracy on clean data: 0.6540, Accuracy on perturbed data: 0.6420\n",
            "[Model Perturbed] Epoch 176, Accuracy on clean data: 0.6540, Accuracy on perturbed data: 0.6420\n",
            "[Model Perturbed] Epoch 177, Accuracy on clean data: 0.6540, Accuracy on perturbed data: 0.6420\n",
            "[Model Perturbed] Epoch 178, Accuracy on clean data: 0.6540, Accuracy on perturbed data: 0.6420\n",
            "[Model Perturbed] Epoch 179, Accuracy on clean data: 0.6540, Accuracy on perturbed data: 0.6420\n",
            "[Model Perturbed] Epoch 180, Accuracy on clean data: 0.6540, Accuracy on perturbed data: 0.6420\n",
            "[Model Perturbed] Epoch 181, Accuracy on clean data: 0.6540, Accuracy on perturbed data: 0.6430\n",
            "[Model Perturbed] Epoch 182, Accuracy on clean data: 0.6530, Accuracy on perturbed data: 0.6430\n",
            "[Model Perturbed] Epoch 183, Accuracy on clean data: 0.6530, Accuracy on perturbed data: 0.6440\n",
            "[Model Perturbed] Epoch 184, Accuracy on clean data: 0.6530, Accuracy on perturbed data: 0.6450\n",
            "[Model Perturbed] Epoch 185, Accuracy on clean data: 0.6530, Accuracy on perturbed data: 0.6450\n",
            "[Model Perturbed] Epoch 186, Accuracy on clean data: 0.6530, Accuracy on perturbed data: 0.6450\n",
            "[Model Perturbed] Epoch 187, Accuracy on clean data: 0.6530, Accuracy on perturbed data: 0.6450\n",
            "[Model Perturbed] Epoch 188, Accuracy on clean data: 0.6520, Accuracy on perturbed data: 0.6450\n",
            "[Model Perturbed] Epoch 189, Accuracy on clean data: 0.6520, Accuracy on perturbed data: 0.6450\n",
            "[Model Perturbed] Epoch 190, Accuracy on clean data: 0.6520, Accuracy on perturbed data: 0.6450\n",
            "[Model Perturbed] Epoch 191, Accuracy on clean data: 0.6520, Accuracy on perturbed data: 0.6450\n",
            "[Model Perturbed] Epoch 192, Accuracy on clean data: 0.6530, Accuracy on perturbed data: 0.6450\n",
            "[Model Perturbed] Epoch 193, Accuracy on clean data: 0.6530, Accuracy on perturbed data: 0.6450\n",
            "[Model Perturbed] Epoch 194, Accuracy on clean data: 0.6530, Accuracy on perturbed data: 0.6450\n",
            "[Model Perturbed] Epoch 195, Accuracy on clean data: 0.6530, Accuracy on perturbed data: 0.6450\n",
            "[Model Perturbed] Epoch 196, Accuracy on clean data: 0.6530, Accuracy on perturbed data: 0.6450\n",
            "[Model Perturbed] Epoch 197, Accuracy on clean data: 0.6530, Accuracy on perturbed data: 0.6450\n",
            "[Model Perturbed] Epoch 198, Accuracy on clean data: 0.6530, Accuracy on perturbed data: 0.6470\n",
            "[Model Perturbed] Epoch 199, Accuracy on clean data: 0.6530, Accuracy on perturbed data: 0.6470\n",
            "[Model Perturbed] Epoch 200, Accuracy on clean data: 0.6530, Accuracy on perturbed data: 0.6480\n",
            "Final Accuracy on clean data: 0.6530\n",
            "Final Accuracy on perturbed data: 0.6480\n"
          ]
        }
      ]
    }
  ]
}